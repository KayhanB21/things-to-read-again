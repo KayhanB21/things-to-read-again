{
 "cells": [
  {
   "cell_type": "markdown",
   "source": [
    "## Testing simple math and numpy operations: Part 2\n"
   ],
   "metadata": {
    "collapsed": false
   }
  },
  {
   "cell_type": "code",
   "execution_count": 1,
   "outputs": [],
   "source": [
    "import math\n",
    "import numpy as np\n",
    "\n",
    "np.set_printoptions(precision = 3)"
   ],
   "metadata": {
    "collapsed": false,
    "pycharm": {
     "name": "#%%\n"
    }
   }
  },
  {
   "cell_type": "code",
   "execution_count": 13,
   "outputs": [
    {
     "name": "stdout",
     "output_type": "stream",
     "text": [
      "[[0. 1. 1. 1.]\n",
      " [0. 0. 1. 1.]\n",
      " [0. 0. 0. 1.]]\n",
      "[[0. 0. 0.]\n",
      " [1. 0. 0.]\n",
      " [1. 1. 0.]\n",
      " [1. 1. 1.]]\n",
      "[[1. 1. 1. 1.]\n",
      " [0. 1. 1. 1.]\n",
      " [0. 0. 1. 1.]\n",
      " [0. 0. 0. 1.]]\n",
      "[[1. 0. 0. 0.]\n",
      " [1. 1. 0. 0.]\n",
      " [1. 1. 1. 0.]\n",
      " [1. 1. 1. 1.]]\n"
     ]
    }
   ],
   "source": [
    "a = np.triu(np.ones((3, 4)), 1)\n",
    "print(a)\n",
    "print(a.T)\n",
    "\n",
    "a = np.triu(np.ones((4, 4)), 0)\n",
    "print(a)\n",
    "print(a.T)"
   ],
   "metadata": {
    "collapsed": false,
    "pycharm": {
     "name": "#%%\n"
    }
   }
  },
  {
   "cell_type": "code",
   "execution_count": 32,
   "outputs": [
    {
     "name": "stdout",
     "output_type": "stream",
     "text": [
      "[[ 0  1  2  3  4]\n",
      " [ 5  6  7  8  9]\n",
      " [10 11 12 13 14]]\n",
      "[[[0.108 0.278 0.992 0.316]\n",
      "  [0.849 0.065 0.107 0.915]\n",
      "  [0.04  0.125 0.388 0.545]]\n",
      "\n",
      " [[0.379 0.188 0.148 0.823]\n",
      "  [0.775 0.649 0.041 0.305]\n",
      "  [0.222 0.61  0.795 0.78 ]]] (2, 3, 4)\n"
     ]
    },
    {
     "ename": "ValueError",
     "evalue": "cannot reshape array of size 15 into shape (3,6)",
     "output_type": "error",
     "traceback": [
      "\u001B[1;31m---------------------------------------------------------------------------\u001B[0m",
      "\u001B[1;31mValueError\u001B[0m                                Traceback (most recent call last)",
      "\u001B[1;32m<ipython-input-32-aa57716b9d92>\u001B[0m in \u001B[0;36m<module>\u001B[1;34m\u001B[0m\n\u001B[0;32m      5\u001B[0m \u001B[0mprint\u001B[0m\u001B[1;33m(\u001B[0m\u001B[0mb_rand\u001B[0m\u001B[1;33m,\u001B[0m\u001B[0mb_rand\u001B[0m\u001B[1;33m.\u001B[0m\u001B[0mshape\u001B[0m\u001B[1;33m)\u001B[0m\u001B[1;33m\u001B[0m\u001B[1;33m\u001B[0m\u001B[0m\n\u001B[0;32m      6\u001B[0m \u001B[1;33m\u001B[0m\u001B[0m\n\u001B[1;32m----> 7\u001B[1;33m \u001B[0mb\u001B[0m \u001B[1;33m=\u001B[0m \u001B[0mnp\u001B[0m\u001B[1;33m.\u001B[0m\u001B[0marange\u001B[0m\u001B[1;33m(\u001B[0m\u001B[1;36m15\u001B[0m\u001B[1;33m)\u001B[0m\u001B[1;33m.\u001B[0m\u001B[0mreshape\u001B[0m\u001B[1;33m(\u001B[0m\u001B[1;36m3\u001B[0m\u001B[1;33m,\u001B[0m \u001B[1;36m6\u001B[0m\u001B[1;33m)\u001B[0m\u001B[1;33m\u001B[0m\u001B[1;33m\u001B[0m\u001B[0m\n\u001B[0m\u001B[0;32m      8\u001B[0m \u001B[0mprint\u001B[0m\u001B[1;33m(\u001B[0m\u001B[0mb\u001B[0m\u001B[1;33m)\u001B[0m\u001B[1;33m\u001B[0m\u001B[1;33m\u001B[0m\u001B[0m\n\u001B[0;32m      9\u001B[0m \u001B[1;33m\u001B[0m\u001B[0m\n",
      "\u001B[1;31mValueError\u001B[0m: cannot reshape array of size 15 into shape (3,6)"
     ]
    }
   ],
   "source": [
    "b = np.arange(15).reshape(3, 5)\n",
    "print(b)\n",
    "\n",
    "b_rand=np.random.rand(2,3,4)\n",
    "print(b_rand,b_rand.shape)\n",
    "\n",
    "b = np.arange(15).reshape(3, 6)\n",
    "print(b)\n"
   ],
   "metadata": {
    "collapsed": false,
    "pycharm": {
     "name": "#%%\n"
    }
   }
  },
  {
   "cell_type": "code",
   "execution_count": 16,
   "outputs": [
    {
     "name": "stdout",
     "output_type": "stream",
     "text": [
      "105\n"
     ]
    },
    {
     "data": {
      "text/plain": "105"
     },
     "execution_count": 16,
     "metadata": {},
     "output_type": "execute_result"
    }
   ],
   "source": [
    "c = np.sum(b)\n",
    "print(c)\n",
    "b.sum()"
   ],
   "metadata": {
    "collapsed": false,
    "pycharm": {
     "name": "#%%\n"
    }
   }
  },
  {
   "cell_type": "code",
   "execution_count": 27,
   "outputs": [
    {
     "name": "stdout",
     "output_type": "stream",
     "text": [
      "(3, 5)\n",
      "[15 18 21 24 27]\n",
      "[10 35 60]\n",
      "15\n",
      "(3, 6, 4)\n",
      "[[ 72  75  78  81]\n",
      " [ 84  87  90  93]\n",
      " [ 96  99 102 105]\n",
      " [108 111 114 117]\n",
      " [120 123 126 129]\n",
      " [132 135 138 141]]\n",
      "(6, 4)\n",
      "[[ 60  66  72  78]\n",
      " [204 210 216 222]\n",
      " [348 354 360 366]]\n",
      "(3, 4)\n",
      "[[  6  22  38  54  70  86]\n",
      " [102 118 134 150 166 182]\n",
      " [198 214 230 246 262 278]]\n",
      "(3, 6)\n"
     ]
    }
   ],
   "source": [
    "print(b.shape)\n",
    "print(b.sum(axis = 0))\n",
    "print(b.sum(axis = 1))\n",
    "print(b[:,0].sum())\n",
    "\n",
    "c = np.arange(72).reshape(3, 6, 4)\n",
    "print(c.shape)\n",
    "print(c.sum(axis = 0))\n",
    "print(c.sum(axis = 0).shape)\n",
    "print(c.sum(axis = 1))\n",
    "print(c.sum(axis = 1).shape)\n",
    "print(c.sum(axis = 2))\n",
    "print(c.sum(axis = 2).shape)\n"
   ],
   "metadata": {
    "collapsed": false,
    "pycharm": {
     "name": "#%%\n"
    }
   }
  },
  {
   "cell_type": "code",
   "execution_count": null,
   "outputs": [],
   "source": [],
   "metadata": {
    "collapsed": false,
    "pycharm": {
     "name": "#%%\n"
    }
   }
  },
  {
   "cell_type": "code",
   "execution_count": 6,
   "outputs": [
    {
     "name": "stdout",
     "output_type": "stream",
     "text": [
      "[[ 1  2  3  4]\n",
      " [ 2  4  6  8]\n",
      " [ 3  6  9 12]]\n",
      "[[ 1  2  3]\n",
      " [ 2  4  6]\n",
      " [ 3  6  9]\n",
      " [ 4  8 12]]\n",
      "[[1. 2. 3.]\n",
      " [1. 2. 3.]\n",
      " [1. 2. 3.]\n",
      " [1. 2. 3.]]\n",
      "(4, 3)\n"
     ]
    }
   ],
   "source": [
    "\n",
    "np_h = np.array([1, 2, 3])\n",
    "np_i = np.array([1, 2, 3, 4])\n",
    "# out(M, N) ndarray, Input is flattened if not already 1-dimensional.\n",
    "# out[i, j] = a[i] * b[j]\n",
    "print(np.outer(np_h, np_i))\n",
    "print(np.outer(np_i, np_h))\n",
    "print(np.outer(np.ones((2, 2)), np_h))\n",
    "print(np.outer(np.ones((2, 2)), np_h).shape)"
   ],
   "metadata": {
    "collapsed": false,
    "pycharm": {
     "name": "#%%\n"
    }
   }
  },
  {
   "cell_type": "code",
   "execution_count": null,
   "outputs": [],
   "source": [],
   "metadata": {
    "collapsed": false,
    "pycharm": {
     "name": "#%%\n"
    }
   }
  },
  {
   "cell_type": "markdown",
   "source": [
    "[source](https://stackoverflow.com/questions/11033573/difference-between-numpy-dot-and-inner)\n",
    "\n",
    "np.inner is sometimes called a \"vector product\" between a higher and lower order\n",
    "tensor, particularly a tensor times a vector, and often leads to \"tensor contraction\".\n",
    "It includes matrix-vector multiplication.\n",
    "\n",
    "np.dot corresponds to a \"tensor product\", and includes the case mentioned at the\n",
    "bottom of the Wikipedia page. It is generally used for multiplication of two\n",
    "similar tensors to produce a new tensor. It includes matrix-matrix multiplication."
   ],
   "metadata": {
    "collapsed": false
   }
  },
  {
   "cell_type": "code",
   "execution_count": 7,
   "outputs": [
    {
     "ename": "NameError",
     "evalue": "name 'np_f' is not defined",
     "output_type": "error",
     "traceback": [
      "\u001B[1;31m---------------------------------------------------------------------------\u001B[0m",
      "\u001B[1;31mNameError\u001B[0m                                 Traceback (most recent call last)",
      "\u001B[1;32m<ipython-input-7-54e7997ce47d>\u001B[0m in \u001B[0;36m<module>\u001B[1;34m\u001B[0m\n\u001B[1;32m----> 1\u001B[1;33m \u001B[0mprint\u001B[0m\u001B[1;33m(\u001B[0m\u001B[0mnp\u001B[0m\u001B[1;33m.\u001B[0m\u001B[0minner\u001B[0m\u001B[1;33m(\u001B[0m\u001B[0mnp_f\u001B[0m\u001B[1;33m,\u001B[0m \u001B[0mnp_g\u001B[0m\u001B[1;33m)\u001B[0m\u001B[1;33m)\u001B[0m\u001B[1;33m\u001B[0m\u001B[1;33m\u001B[0m\u001B[0m\n\u001B[0m\u001B[0;32m      2\u001B[0m \u001B[0mprint\u001B[0m\u001B[1;33m(\u001B[0m\u001B[0mnp\u001B[0m\u001B[1;33m.\u001B[0m\u001B[0mdot\u001B[0m\u001B[1;33m(\u001B[0m\u001B[0mnp_f\u001B[0m\u001B[1;33m,\u001B[0m \u001B[0mnp_g\u001B[0m\u001B[1;33m)\u001B[0m\u001B[1;33m)\u001B[0m\u001B[1;33m\u001B[0m\u001B[1;33m\u001B[0m\u001B[0m\n\u001B[0;32m      3\u001B[0m \u001B[1;33m\u001B[0m\u001B[0m\n\u001B[0;32m      4\u001B[0m \u001B[1;33m\u001B[0m\u001B[0m\n",
      "\u001B[1;31mNameError\u001B[0m: name 'np_f' is not defined"
     ]
    }
   ],
   "source": [
    "print(np.inner(np_f, np_g))\n",
    "print(np.dot(np_f, np_g))\n"
   ],
   "metadata": {
    "collapsed": false,
    "pycharm": {
     "name": "#%%\n"
    }
   }
  },
  {
   "cell_type": "code",
   "execution_count": null,
   "outputs": [],
   "source": [],
   "metadata": {
    "collapsed": false,
    "pycharm": {
     "name": "#%%\n"
    }
   }
  }
 ],
 "metadata": {
  "kernelspec": {
   "display_name": "Python 3",
   "language": "python",
   "name": "python3"
  },
  "language_info": {
   "codemirror_mode": {
    "name": "ipython",
    "version": 3
   },
   "file_extension": ".py",
   "mimetype": "text/x-python",
   "name": "python",
   "nbconvert_exporter": "python",
   "pygments_lexer": "ipython3",
   "version": "3.8.10"
  },
  "pycharm": {
   "stem_cell": {
    "cell_type": "raw",
    "source": [
     "# coding=utf-8\n"
    ],
    "metadata": {
     "collapsed": false
    }
   }
  }
 },
 "nbformat": 4,
 "nbformat_minor": 5
}