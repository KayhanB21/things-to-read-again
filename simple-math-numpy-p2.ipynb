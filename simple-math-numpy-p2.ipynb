{
 "cells": [
  {
   "cell_type": "markdown",
   "source": [
    "## Testing simple math and numpy operations: Part 2\n"
   ],
   "metadata": {
    "collapsed": false
   }
  },
  {
   "cell_type": "code",
   "execution_count": 1,
   "outputs": [],
   "source": [
    "import math\n",
    "import numpy as np\n",
    "\n",
    "np.set_printoptions(precision = 3)"
   ],
   "metadata": {
    "collapsed": false,
    "pycharm": {
     "name": "#%%\n"
    }
   }
  },
  {
   "cell_type": "code",
   "execution_count": null,
   "outputs": [],
   "source": [],
   "metadata": {
    "collapsed": false,
    "pycharm": {
     "name": "#%%\n"
    }
   }
  },
  {
   "cell_type": "code",
   "execution_count": null,
   "outputs": [],
   "source": [
    "np_h = np.array([1, 2, 3])\n",
    "np_i = np.array([1, 2, 3, 4])\n",
    "# out(M, N) ndarray, Input is flattened if not already 1-dimensional.\n",
    "# out[i, j] = a[i] * b[j]\n",
    "print(np.outer(np_h, np_i))\n",
    "print(np.outer(np_i, np_h))\n",
    "print(np.outer(np.ones((2, 2)), np_h))\n",
    "print(np.outer(np.ones((2, 2)), np_h).shape)"
   ],
   "metadata": {
    "collapsed": false,
    "pycharm": {
     "name": "#%%\n"
    }
   }
  },
  {
   "cell_type": "markdown",
   "source": [
    "[source](https://stackoverflow.com/questions/11033573/difference-between-numpy-dot-and-inner)\n",
    "\n",
    "np.inner is sometimes called a \"vector product\" between a higher and lower order\n",
    "tensor, particularly a tensor times a vector, and often leads to \"tensor contraction\".\n",
    "It includes matrix-vector multiplication.\n",
    "\n",
    "np.dot corresponds to a \"tensor product\", and includes the case mentioned at the\n",
    "bottom of the Wikipedia page. It is generally used for multiplication of two\n",
    "similar tensors to produce a new tensor. It includes matrix-matrix multiplication."
   ],
   "metadata": {
    "collapsed": false
   }
  },
  {
   "cell_type": "code",
   "execution_count": null,
   "outputs": [],
   "source": [
    "print(np.inner(np_f, np_g))\n",
    "print(np.dot(np_f, np_g))\n"
   ],
   "metadata": {
    "collapsed": false,
    "pycharm": {
     "name": "#%%\n"
    }
   }
  },
  {
   "cell_type": "code",
   "execution_count": null,
   "outputs": [],
   "source": [],
   "metadata": {
    "collapsed": false,
    "pycharm": {
     "name": "#%%\n"
    }
   }
  }
 ],
 "metadata": {
  "kernelspec": {
   "display_name": "Python 3",
   "language": "python",
   "name": "python3"
  },
  "language_info": {
   "codemirror_mode": {
    "name": "ipython",
    "version": 3
   },
   "file_extension": ".py",
   "mimetype": "text/x-python",
   "name": "python",
   "nbconvert_exporter": "python",
   "pygments_lexer": "ipython3",
   "version": "3.8.10"
  },
  "pycharm": {
   "stem_cell": {
    "cell_type": "raw",
    "source": [
     "# coding=utf-8\n"
    ],
    "metadata": {
     "collapsed": false
    }
   }
  }
 },
 "nbformat": 4,
 "nbformat_minor": 5
}