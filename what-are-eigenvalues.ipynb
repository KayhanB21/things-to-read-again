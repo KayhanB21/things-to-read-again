{
 "cells": [
  {
   "cell_type": "markdown",
   "source": [
    "## What are Eigenvalues and Eigenvectors"
   ],
   "metadata": {
    "collapsed": false
   }
  },
  {
   "cell_type": "markdown",
   "source": [],
   "metadata": {
    "collapsed": false
   }
  },
  {
   "cell_type": "code",
   "execution_count": 5,
   "outputs": [],
   "source": [
    "import scipy.linalg as la\n",
    "import numpy as np"
   ],
   "metadata": {
    "collapsed": false,
    "pycharm": {
     "name": "#%%\n"
    }
   }
  },
  {
   "cell_type": "markdown",
   "source": [
    "## Definition\n",
    "\n",
    "[Source](https://github.com/patrickwalls/mathematical-python/)\n",
    "\n",
    "Let $A$ be a square matrix. A non-zero vector $\\mathbf{v}$ is an [eigenvector](https://en.wikipedia.org/wiki/Eigenvalues_and_eigenvectors) for $A$ with [eigenvalue](https://en.wikipedia.org/wiki/Eigenvalues_and_eigenvectors) $\\lambda$ if\n",
    "\n",
    "$$\n",
    "A\\mathbf{v} = \\lambda \\mathbf{v}\n",
    "$$\n",
    "\n",
    "Rearranging the equation, we see that $\\mathbf{v}$ is a solution of the homogeneous system of equations\n",
    "\n",
    "$$\n",
    "\\left( A - \\lambda I \\right) \\mathbf{v} = \\mathbf{0}\n",
    "$$\n",
    "\n",
    "where $I$ is the identity matrix of size $n$. Non-trivial solutions exist only if the matrix $A - \\lambda I$ is singular which means $\\mathrm{det}(A - \\lambda I) = 0$. Therefore eigenvalues of $A$ are roots of the [characteristic polynomial](https://en.wikipedia.org/wiki/Characteristic_polynomial)\n",
    "\n",
    "$$\n",
    "p(\\lambda) = \\mathrm{det}(A - \\lambda I)\n",
    "$$"
   ],
   "metadata": {
    "collapsed": false,
    "pycharm": {
     "name": "#%% md\n"
    }
   }
  },
  {
   "cell_type": "code",
   "execution_count": 4,
   "outputs": [
    {
     "name": "stdout",
     "output_type": "stream",
     "text": [
      "[[ 1  0]\n",
      " [ 0 -2]]\n"
     ]
    }
   ],
   "source": [
    "A=np.array([[1,0],[0,-2]])\n",
    "print(A)"
   ],
   "metadata": {
    "collapsed": false,
    "pycharm": {
     "name": "#%%\n"
    }
   }
  },
  {
   "cell_type": "code",
   "execution_count": 7,
   "outputs": [
    {
     "name": "stdout",
     "output_type": "stream",
     "text": [
      "(array([ 1.+0.j, -2.+0.j]), array([[1., 0.],\n",
      "       [0., 1.]]))\n"
     ]
    }
   ],
   "source": [
    "results = la.eig(A)\n",
    "print(results)"
   ],
   "metadata": {
    "collapsed": false,
    "pycharm": {
     "name": "#%%\n"
    }
   }
  },
  {
   "cell_type": "markdown",
   "source": [
    "results is a tuple with (eigvals,eigvecs). eigvals is 1D numpy array. eigvecs is 2D\n",
    "numpy array.\n",
    "\n",
    "[Source](https://math.stackexchange.com/questions/67304/do-real-matrices-always-have-real-eigenvalues)\n",
    "\n",
    "Do real matrices always have real eigenvalues?\n",
    "Real symmetric matrices do, but otherwise not necessarily.\n",
    "\n",
    "If a matrix with real entries is symmetric (equal to its own transpose)\n",
    "then its eigenvalues are real (and its eigenvectors are orthogonal). Every n×n matrix whose entries are real has at least one real eigenvalue\n",
    "if n is odd. That is because the characteristic polynomial has real coefficients\n",
    "so the complex conjugate of a root is another root, and you can't have an odd number\n",
    "of roots if they come in pairs of distinct entries.\n"
   ],
   "metadata": {
    "collapsed": false,
    "pycharm": {
     "name": "#%% md\n"
    }
   }
  },
  {
   "cell_type": "code",
   "execution_count": null,
   "outputs": [],
   "source": [],
   "metadata": {
    "collapsed": false,
    "pycharm": {
     "name": "#%%\n"
    }
   }
  }
 ],
 "metadata": {
  "kernelspec": {
   "display_name": "Python 3",
   "language": "python",
   "name": "python3"
  },
  "language_info": {
   "codemirror_mode": {
    "name": "ipython",
    "version": 3
   },
   "file_extension": ".py",
   "mimetype": "text/x-python",
   "name": "python",
   "nbconvert_exporter": "python",
   "pygments_lexer": "ipython3",
   "version": "3.8.8"
  },
  "pycharm": {
   "stem_cell": {
    "cell_type": "raw",
    "source": [
     "# coding=utf-8\n"
    ],
    "metadata": {
     "collapsed": false
    }
   }
  }
 },
 "nbformat": 4,
 "nbformat_minor": 5
}