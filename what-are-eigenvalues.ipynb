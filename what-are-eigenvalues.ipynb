{
 "cells": [
  {
   "cell_type": "markdown",
   "id": "d6b759ee",
   "metadata": {},
   "source": [
    "## What are Eigenvalues and Eigenvectors?\n"
   ]
  },
  {
   "cell_type": "code",
   "execution_count": 1,
   "id": "ad0bb3b1",
   "metadata": {
    "pycharm": {
     "name": "#%%\n"
    }
   },
   "outputs": [],
   "source": [
    "import scipy.linalg as la\n",
    "import numpy as np\n",
    "\n",
    "np.set_printoptions(precision = 3)"
   ]
  },
  {
   "cell_type": "markdown",
   "id": "50dea86d",
   "metadata": {
    "pycharm": {
     "name": "#%% md\n"
    }
   },
   "source": [
    "## Definition\n",
    "\n",
    "[Source](https://github.com/patrickwalls/mathematical-python/)\n",
    "\n",
    "Let $A$ be a square matrix. A non-zero vector $\\mathbf{v}$ is an [eigenvector](https://en.wikipedia.org/wiki/Eigenvalues_and_eigenvectors) for $A$ with [eigenvalue](https://en.wikipedia.org/wiki/Eigenvalues_and_eigenvectors) $\\lambda$ if\n",
    "\n",
    "$$\n",
    "A\\mathbf{v} = \\lambda \\mathbf{v}\n",
    "$$\n",
    "\n",
    "Rearranging the equation, we see that $\\mathbf{v}$ is a solution of the homogeneous system of equations\n",
    "\n",
    "$$\n",
    "\\left( A - \\lambda I \\right) \\mathbf{v} = \\mathbf{0}\n",
    "$$\n",
    "\n",
    "where $I$ is the identity matrix of size $n$. Non-trivial solutions exist only if the matrix $A - \\lambda I$ is singular which means $\\mathrm{det}(A - \\lambda I) = 0$. Therefore eigenvalues of $A$ are roots of the [characteristic polynomial](https://en.wikipedia.org/wiki/Characteristic_polynomial)\n",
    "\n",
    "$$\n",
    "p(\\lambda) = \\mathrm{det}(A - \\lambda I)\n",
    "$$"
   ]
  },
  {
   "cell_type": "markdown",
   "id": "24542f0a",
   "metadata": {},
   "source": [
    "## Examples"
   ]
  },
  {
   "cell_type": "code",
   "execution_count": 2,
   "id": "0f126e34",
   "metadata": {
    "pycharm": {
     "name": "#%%\n"
    }
   },
   "outputs": [
    {
     "name": "stdout",
     "output_type": "stream",
     "text": [
      "[[ 1  0]\n",
      " [ 0 -2]]\n"
     ]
    }
   ],
   "source": [
    "A = np.array([[1, 0], [0, -2]])\n",
    "print(A)"
   ]
  },
  {
   "cell_type": "code",
   "execution_count": 3,
   "id": "7501ae0f",
   "metadata": {
    "pycharm": {
     "name": "#%%\n"
    }
   },
   "outputs": [
    {
     "name": "stdout",
     "output_type": "stream",
     "text": [
      "(array([ 1.+0.j, -2.+0.j]), array([[1., 0.],\n",
      "       [0., 1.]]))\n"
     ]
    }
   ],
   "source": [
    "results = la.eig(A)\n",
    "print(results)"
   ]
  },
  {
   "cell_type": "markdown",
   "id": "1dde3823",
   "metadata": {
    "pycharm": {
     "name": "#%% md\n"
    }
   },
   "source": [
    "results is a tuple with (eigvals,eigvecs). eigvals is 1D numpy array. eigvecs is 2D\n",
    "numpy array.\n",
    "\n",
    "[Source](https://math.stackexchange.com/questions/67304/do-real-matrices-always-have-real-eigenvalues)\n",
    "\n",
    "Do real matrices always have real eigenvalues?\n",
    "Real symmetric matrices do, but otherwise not necessarily.\n",
    "\n",
    "If a matrix with real entries is symmetric (equal to its own transpose)\n",
    "then its eigenvalues are real (and its eigenvectors are orthogonal). Every n×n matrix whose entries are real has at least one real eigenvalue\n",
    "if n is odd. That is because the characteristic polynomial has real coefficients\n",
    "so the complex conjugate of a root is another root, and you can't have an odd number\n",
    "of roots if they come in pairs of distinct entries."
   ]
  },
  {
   "cell_type": "code",
   "execution_count": 4,
   "id": "066bd1ec",
   "metadata": {
    "pycharm": {
     "name": "#%%\n"
    }
   },
   "outputs": [
    {
     "name": "stdout",
     "output_type": "stream",
     "text": [
      "Check whether A is equal to its own transpose\n",
      "True\n",
      "Check whether B is equal to its own transpose\n",
      "False\n",
      "[[ 1  1  3]\n",
      " [ 4 -2  5]\n",
      " [ 2 -4  5]]\n",
      "(array([-2.183+0.j   ,  3.091+2.634j,  3.091-2.634j]), array([[-0.651+0.j   ,  0.553-0.089j,  0.553+0.089j],\n",
      "       [ 0.572+0.j   ,  0.67 +0.j   ,  0.67 -0.j   ],\n",
      "       [ 0.5  +0.j   ,  0.24 +0.424j,  0.24 -0.424j]]))\n"
     ]
    }
   ],
   "source": [
    "print(\"Check whether A is equal to its own transpose\")\n",
    "print(True) if np.array_equal(A.T, A) else print(False)\n",
    "\n",
    "print(\"Check whether B is equal to its own transpose\")\n",
    "B = np.array([[1, 1, 3], [4, -2, 5], [2, -4, 5]])\n",
    "print(True) if np.array_equal(B.T, B) else print(False)\n",
    "print(B)\n",
    "results = la.eig(B)\n",
    "print(results)"
   ]
  },
  {
   "cell_type": "code",
   "execution_count": 6,
   "id": "1ddf1e8b",
   "metadata": {
    "pycharm": {
     "name": "#%%\n"
    }
   },
   "outputs": [
    {
     "name": "stdout",
     "output_type": "stream",
     "text": [
      "[-2.183  3.091  3.091]\n",
      "[ 0.     2.634 -2.634]\n"
     ]
    }
   ],
   "source": [
    "# eigenvalues\n",
    "print(results[0].real)\n",
    "print(results[0].imag)"
   ]
  },
  {
   "cell_type": "code",
   "execution_count": 7,
   "id": "cd2e98a3",
   "metadata": {
    "pycharm": {
     "name": "#%%\n"
    }
   },
   "outputs": [
    {
     "name": "stdout",
     "output_type": "stream",
     "text": [
      "[[-0.651+0.j     0.553-0.089j  0.553+0.089j]\n",
      " [ 0.572+0.j     0.67 +0.j     0.67 -0.j   ]\n",
      " [ 0.5  +0.j     0.24 +0.424j  0.24 -0.424j]]\n"
     ]
    }
   ],
   "source": [
    "#eigenvectors\n",
    "print(results[1])"
   ]
  },
  {
   "cell_type": "code",
   "execution_count": 19,
   "outputs": [
    {
     "name": "stdout",
     "output_type": "stream",
     "text": [
      "[0.553-0.089j 0.67 +0.j    0.24 +0.424j]\n",
      "[[0.553-0.089j]\n",
      " [0.67 +0.j   ]\n",
      " [0.24 +0.424j]]\n"
     ]
    }
   ],
   "source": [
    "print(results[1][:, 1])\n",
    "v1 = results[1][:, 1].reshape(3, 1)\n",
    "print(v1)"
   ],
   "metadata": {
    "collapsed": false,
    "pycharm": {
     "name": "#%%\n"
    }
   }
  },
  {
   "cell_type": "code",
   "execution_count": 13,
   "outputs": [
    {
     "data": {
      "text/plain": "array([[ 1.943+1.183j],\n       [ 2.072+1.765j],\n       [-0.375+1.942j]])"
     },
     "execution_count": 13,
     "metadata": {},
     "output_type": "execute_result"
    }
   ],
   "source": [
    "B @ v1"
   ],
   "metadata": {
    "collapsed": false,
    "pycharm": {
     "name": "#%%\n"
    }
   }
  },
  {
   "cell_type": "code",
   "execution_count": 10,
   "outputs": [
    {
     "data": {
      "text/plain": "array([[ 1.943+1.183j],\n       [ 2.072+1.765j],\n       [-0.375+1.942j]])"
     },
     "execution_count": 10,
     "metadata": {},
     "output_type": "execute_result"
    }
   ],
   "source": [
    "results[0][1] * v1"
   ],
   "metadata": {
    "collapsed": false,
    "pycharm": {
     "name": "#%%\n"
    }
   }
  },
  {
   "cell_type": "code",
   "execution_count": 18,
   "outputs": [
    {
     "name": "stdout",
     "output_type": "stream",
     "text": [
      "[[-0.651+0.j]\n",
      " [ 0.572+0.j]\n",
      " [ 0.5  +0.j]]\n",
      "True\n",
      "[[0.553-0.089j]\n",
      " [0.67 +0.j   ]\n",
      " [0.24 +0.424j]]\n",
      "True\n",
      "[[0.553+0.089j]\n",
      " [0.67 -0.j   ]\n",
      " [0.24 -0.424j]]\n",
      "True\n"
     ]
    }
   ],
   "source": [
    "# let's check for other eigenvectors and values\n",
    "for n in range(3):\n",
    "    d = 3\n",
    "    v = results[1][:, n].reshape(d, 1)\n",
    "    print(v)\n",
    "    print(True) if np.allclose(B @ v, results[0][n] * v) else print(False)"
   ],
   "metadata": {
    "collapsed": false,
    "pycharm": {
     "name": "#%%\n"
    }
   }
  },
  {
   "cell_type": "code",
   "execution_count": null,
   "outputs": [],
   "source": [],
   "metadata": {
    "collapsed": false,
    "pycharm": {
     "name": "#%%\n"
    }
   }
  }
 ],
 "metadata": {
  "kernelspec": {
   "display_name": "Python 3",
   "language": "python",
   "name": "python3"
  },
  "language_info": {
   "codemirror_mode": {
    "name": "ipython",
    "version": 3
   },
   "file_extension": ".py",
   "mimetype": "text/x-python",
   "name": "python",
   "nbconvert_exporter": "python",
   "pygments_lexer": "ipython3",
   "version": "3.8.10"
  },
  "pycharm": {
   "stem_cell": {
    "cell_type": "raw",
    "source": [
     "# coding=utf-8\n"
    ],
    "metadata": {
     "collapsed": false
    }
   }
  }
 },
 "nbformat": 4,
 "nbformat_minor": 5
}