{
 "cells": [
  {
   "cell_type": "markdown",
   "id": "21f78e20",
   "metadata": {},
   "source": [
    "## What are Eigenvalues and Eigenvectors"
   ]
  },
  {
   "cell_type": "markdown",
   "id": "d82f9aae",
   "metadata": {},
   "source": []
  },
  {
   "cell_type": "code",
   "execution_count": 1,
   "id": "2cf65d82",
   "metadata": {
    "pycharm": {
     "name": "#%%\n"
    }
   },
   "outputs": [],
   "source": [
    "import numpy as np"
   ]
  },
  {
   "cell_type": "markdown",
   "id": "f0aed89d",
   "metadata": {
    "pycharm": {
     "name": "#%% md\n"
    }
   },
   "source": [
    "## Definition\n",
    "\n",
    "[Source](https://github.com/patrickwalls/mathematical-python/)\n",
    "\n",
    "Let $A$ be a square matrix. A non-zero vector $\\mathbf{v}$ is an [eigenvector](https://en.wikipedia.org/wiki/Eigenvalues_and_eigenvectors) for $A$ with [eigenvalue](https://en.wikipedia.org/wiki/Eigenvalues_and_eigenvectors) $\\lambda$ if\n",
    "\n",
    "$$\n",
    "A\\mathbf{v} = \\lambda \\mathbf{v}\n",
    "$$\n",
    "\n",
    "Rearranging the equation, we see that $\\mathbf{v}$ is a solution of the homogeneous system of equations\n",
    "\n",
    "$$\n",
    "\\left( A - \\lambda I \\right) \\mathbf{v} = \\mathbf{0}\n",
    "$$\n",
    "\n",
    "where $I$ is the identity matrix of size $n$. Non-trivial solutions exist only if the matrix $A - \\lambda I$ is singular which means $\\mathrm{det}(A - \\lambda I) = 0$. Therefore eigenvalues of $A$ are roots of the [characteristic polynomial](https://en.wikipedia.org/wiki/Characteristic_polynomial)\n",
    "\n",
    "$$\n",
    "p(\\lambda) = \\mathrm{det}(A - \\lambda I)\n",
    "$$\n"
   ]
  },
  {
   "cell_type": "code",
   "execution_count": null,
   "id": "5032505d",
   "metadata": {
    "pycharm": {
     "name": "#%%\n"
    }
   },
   "outputs": [],
   "source": []
  }
 ],
 "metadata": {
  "kernelspec": {
   "display_name": "Python 3",
   "language": "python",
   "name": "python3"
  },
  "language_info": {
   "codemirror_mode": {
    "name": "ipython",
    "version": 3
   },
   "file_extension": ".py",
   "mimetype": "text/x-python",
   "name": "python",
   "nbconvert_exporter": "python",
   "pygments_lexer": "ipython3",
   "version": "3.8.10"
  },
  "pycharm": {
   "stem_cell": {
    "cell_type": "raw",
    "metadata": {
     "collapsed": false
    },
    "source": [
     "# coding=utf-8\n"
    ]
   }
  }
 },
 "nbformat": 4,
 "nbformat_minor": 5
}
